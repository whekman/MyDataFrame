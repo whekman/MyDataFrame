{
 "cells": [
  {
   "cell_type": "markdown",
   "metadata": {},
   "source": [
    "# Pint + Pandas =  MyDataFrame\n",
    "\n",
    "\n",
    "## Background\n",
    "\n",
    "1.\n",
    "Manual unit conversion\n",
    "\n",
    "    df[\"Z [g/km]\"] = 0.001*df[\"X [g/s]\"] / df[\"Y [km/h]] / 3600 # WRAAAAAAAAAAAA\n",
    "\n",
    "What if\n",
    "\n",
    "    df[\"Z\"] = (df[\"X\"] / df[\"Y]).to(\"gram per kilometer\")\n",
    "    df[\"Z\"].unit\n",
    "    >>> g/km\n",
    "\n",
    "2.\n",
    "Passing arguments in plotting\n",
    "\n",
    "    plt.plot(df[\"X\"],df[\"Y\"],xlabel = \"X [g/km]\", ylabel = \"Y [km/h]\", xlim = ....)\n",
    "    \n",
    "What if\n",
    "\n",
    "    df.plot(\"X\", \"Y\") \n",
    "    \n",
    "units, labels, labels taken care of by default.\n",
    "\n",
    "3.\n",
    "Error handling\n",
    "\n",
    "    is_neg = df[\"X\"] < 0\n",
    "    df.loc[is_neq,\"X\"] = np.nan\n",
    "    # repeat for every column\n",
    "\n",
    "What if\n",
    "\n",
    "    # defined centrally for all columns\n",
    "    df[\"X\"].lower_limit\n",
    "    >>> 0\n",
    "    df[\"X\"].upper_limit\n",
    "    >>> 200   \n",
    "    \n",
    "    df = df.enforce_limits()\n",
    "\n",
    "4.\n",
    "Documentation\n",
    "\n",
    "What if\n",
    "    \n",
    "    df[\"X\"].info\n",
    "    >>> \"X [g/s] measured with sensor AAAA. Call Guus at 0642114412 for more info.\"\n"
   ]
  },
  {
   "cell_type": "code",
   "execution_count": 54,
   "metadata": {
    "collapsed": true
   },
   "outputs": [],
   "source": [
    "import pint\n",
    "import pandas as pd\n",
    "import numpy as np"
   ]
  },
  {
   "cell_type": "markdown",
   "metadata": {},
   "source": [
    "# Simple and extended functionality"
   ]
  },
  {
   "cell_type": "markdown",
   "metadata": {},
   "source": [
    "## Simple: Unit - Column association "
   ]
  },
  {
   "cell_type": "code",
   "execution_count": 55,
   "metadata": {
    "collapsed": false
   },
   "outputs": [],
   "source": [
    "_u = pint.UnitRegistry()\n",
    "\n",
    "units = {}\n",
    "units[\"gpsv\"] = _u(\"kilometer per hour\")\n",
    "units[\"emissions\"] = _u(\"milligram per second\")"
   ]
  },
  {
   "cell_type": "code",
   "execution_count": 56,
   "metadata": {
    "collapsed": false
   },
   "outputs": [
    {
     "data": {
      "text/plain": [
       "{'emissions': <Quantity(1.0, 'milligram / second')>,\n",
       " 'gpsv': <Quantity(1.0, 'kilometer / hour')>}"
      ]
     },
     "execution_count": 56,
     "metadata": {},
     "output_type": "execute_result"
    }
   ],
   "source": [
    "units"
   ]
  },
  {
   "cell_type": "markdown",
   "metadata": {},
   "source": [
    "## Extended: MetaData - Column association incl. unit support\n",
    "\n",
    "### E.g. using a register (e.g. flat YAML or from a DB )"
   ]
  },
  {
   "cell_type": "code",
   "execution_count": 57,
   "metadata": {
    "collapsed": false
   },
   "outputs": [
    {
     "name": "stdout",
     "output_type": "stream",
     "text": [
      "Overwriting myRegister.yaml\n"
     ]
    }
   ],
   "source": [
    "%%writefile myRegister.yaml\n",
    "\n",
    "emissions :\n",
    "    repr : CO2 [mg/s]\n",
    "    unit : milligram per second\n",
    "    type : number\n",
    "    upper_limit : 400\n",
    "    lower_limit : 0    \n",
    "    description : CO2 emission breathing while riding the bike.\n",
    "    info : Measured using XXX sensor, etc.\n",
    "        \n",
    "gpsv :\n",
    "    repr : V [km/h]\n",
    "    unit : kilometer per hour\n",
    "    type : number\n",
    "    upper_limit : 30\n",
    "    lower_limit : 0\n",
    "    description : GPS Velocity\n",
    "    docstring : Measured using YYY sensor etc."
   ]
  },
  {
   "cell_type": "markdown",
   "metadata": {},
   "source": [
    "Human readable, easy to debug. \n",
    "\n",
    "Even better: Separate files per property, e.g.:\n",
    "\n",
    "register2/unit.yaml:\n",
    "<code>\n",
    "emissions : milligram per second\n",
    "gpsv : kilomter per hour\n",
    "</code>\n",
    "\n",
    "register2/repr.yaml:\n",
    "<code>\n",
    "after_cat_nox_mf : CO2 [mg/s]\n",
    "gpsv : V [km/h]\n",
    "</code>\n",
    "\n",
    "Allows one to add new properties by creating new files, e.g. \n",
    "\n",
    "is_emission.yaml:\n",
    "<code>\n",
    "emissions : True\n",
    "gpsv : False\n",
    "</code>"
   ]
  },
  {
   "cell_type": "markdown",
   "metadata": {},
   "source": [
    "Loading a register"
   ]
  },
  {
   "cell_type": "code",
   "execution_count": 58,
   "metadata": {
    "collapsed": true
   },
   "outputs": [],
   "source": [
    "import yaml\n",
    "\n",
    "with open(\"MyRegister.yaml\", 'r') as f:\n",
    "    read_data = f.read()\n",
    "    myRegister = yaml.load(read_data)\n",
    "f.closed\n",
    "\n",
    "units2 = {key: _u(prop[\"unit\"]) for key, prop in myRegister.items()}"
   ]
  },
  {
   "cell_type": "markdown",
   "metadata": {},
   "source": [
    "Units"
   ]
  },
  {
   "cell_type": "code",
   "execution_count": 59,
   "metadata": {
    "collapsed": false
   },
   "outputs": [
    {
     "data": {
      "text/plain": [
       "{'emissions': <Quantity(1.0, 'milligram / second')>,\n",
       " 'gpsv': <Quantity(1.0, 'kilometer / hour')>}"
      ]
     },
     "execution_count": 59,
     "metadata": {},
     "output_type": "execute_result"
    }
   ],
   "source": [
    "units2"
   ]
  },
  {
   "cell_type": "markdown",
   "metadata": {},
   "source": [
    "String representations"
   ]
  },
  {
   "cell_type": "code",
   "execution_count": 60,
   "metadata": {
    "collapsed": false
   },
   "outputs": [
    {
     "data": {
      "text/plain": [
       "{'emissions': 'CO2 [mg/s]', 'gpsv': 'V [km/h]'}"
      ]
     },
     "execution_count": 60,
     "metadata": {},
     "output_type": "execute_result"
    }
   ],
   "source": [
    "reprs = {key: prop[\"repr\"] for key, prop in myRegister.items()}\n",
    "reprs"
   ]
  },
  {
   "cell_type": "markdown",
   "metadata": {},
   "source": [
    "## The Classes"
   ]
  },
  {
   "cell_type": "code",
   "execution_count": 61,
   "metadata": {
    "collapsed": false
   },
   "outputs": [],
   "source": [
    "class MyDataFrame:\n",
    "    \"\"\"Unit-ed Data Frame\"\"\"\n",
    "    def __init__(self,df,units):\n",
    "        union = [col for col in list(df) if col in list(units)]\n",
    "        if len(union) != len(list(df)):\n",
    "            print(\"Warning: Not all columns have an associated unit.\")\n",
    "            \n",
    "        self.df = df.copy()\n",
    "        self.units = units\n",
    "    \n",
    "    def __getitem__(self, key):\n",
    "        if key in units.keys():\n",
    "            return MySeries(self.df[key],self.units[key])\n",
    "        else:\n",
    "            print(\"No unit associated to key.\")\n",
    "        \n",
    "    def __setitem__(self, key, mySeries):\n",
    "            self.df[key] = mySeries.series\n",
    "            self.units[key] = mySeries.unit\n",
    "            \n",
    "    def __repr__(self):\n",
    "        \n",
    "        header = \"\\n\".join([\"{:20s}: {:10s}\".format(colname,u.units) for colname,u in self.units.items()])\n",
    "        return header+\"\\n\\n\"+self.df.head().__repr__()\n",
    "    \n",
    "    def describe(self, stats = [\"mean\",\"std\"]):\n",
    "\n",
    "        real_var_names = list(self.df.select_dtypes(include=['int', 'float']).columns) # real = real numbers\n",
    "        string_var_names = [col for col in list(df) if col not in real_var_names]\n",
    "\n",
    "        def padder(input,width,right=True):\n",
    "            if right:\n",
    "                return \"{:>{width}}\".format(input,width=width)\n",
    "            else:\n",
    "                return \"{:<{width}}\".format(input,width=width)\n",
    "        \n",
    "        header = []\n",
    "        \n",
    "        # REAL VAR NAME COLUMN\n",
    "        \n",
    "        \n",
    "        name_col = []\n",
    "        width = 20\n",
    "        \n",
    "        for name in list(real_var_names):\n",
    "            padded = \"{:<{width}}\".format(name,width=width)\n",
    "            name_col.append(padded)       \n",
    "        \n",
    "        header.append(\"{:<{width}}\".format(\"Variable\",width=width))\n",
    "        # UNIT COLUMN\n",
    "        unit_col = []\n",
    "        width = 6\n",
    "        \n",
    "        for name in real_var_names:            \n",
    "            if name in self.units.keys():\n",
    "                unit = self.units[name].units\n",
    "                unit_str = \"{:~}\".format(unit)\n",
    "                \n",
    "                # if missing pretty format\n",
    "                if len(unit_str) == 0:\n",
    "                    unit_str = str(unit)\n",
    "            else:\n",
    "                unit_str = '?'\n",
    "            padded = \"{:>{width}}\".format(unit_str,width=width)\n",
    "            \n",
    "            unit_col.append(padded)\n",
    "            \n",
    "        header.append(\"{:<{width}}\".format(\"Unit\",width=width))\n",
    "                    \n",
    "        # STATISTICS COLUMN\n",
    "        \n",
    "        stat_cols = []\n",
    "        width = 12\n",
    "        for fn in stats:\n",
    "            stat_col = []\n",
    "            for name in real_var_names:\n",
    "                val = getattr(mdf[name].series, fn)()\n",
    "                padded = \"{:>{width}.2f}\".format(val,width=width)\n",
    "                stat_col.append(padded)\n",
    "            stat_cols.append(stat_col)\n",
    "            header.append(\"{:>{width}}\".format(fn,width=width))\n",
    "        \n",
    "        # ASEMMBLE\n",
    "        rows = []\n",
    "        head = \"\".join(header)\n",
    "        line = len(head)*\"-\"\n",
    "        for i in range(len(real_var_names)):\n",
    "            row = \"\".join([name_col[i],unit_col[i]] + [stat_col[i] for stat_col in stat_cols])\n",
    "            rows.append(row)\n",
    "        \n",
    "        print(\"\\n\".join([head,line]+rows))\n"
   ]
  },
  {
   "cell_type": "code",
   "execution_count": 62,
   "metadata": {
    "collapsed": false
   },
   "outputs": [],
   "source": [
    "class MySeries:\n",
    "    \"\"\"Unit-ed Series\"\"\"\n",
    "    def __init__(self,series,unit):\n",
    "        self.series = series.copy()\n",
    "        self.unit = unit\n",
    "        \n",
    "    def __repr__(self):\n",
    "        print(\"Unit: \", self.unit)\n",
    "        return self.series.head().__repr__()\n",
    "    \n",
    "    def __truediv__(self,other):\n",
    "        return self.__class__(self.series/other.series,1*(self.unit/other.unit))\n",
    "    \n",
    "    def __mul__(self,other):\n",
    "        return self.__class__(self.series*other.series,1*(self.unit*other.unit))\n",
    "    \n",
    "    def __eq__(self, other):\n",
    "        return self.series.__eq__(self.series,other)\n",
    "    \n",
    "    def __getitem__(self,key):\n",
    "        return self.series[key]\n",
    "    \n",
    "    def notnull(self):\n",
    "        return self.series.notnull()\n",
    "    \n",
    "    def to(self, unit):\n",
    "        original = 1*self.unit\n",
    "        altered = original.to(unit)\n",
    "        return MySeries(self.series*altered.magnitude,1*altered.units)\n",
    "    \n",
    "    def loc(self,*args,**kwargs):\n",
    "        return self.series.loc(*args,**kwargs)\n",
    "    \n",
    "    def plot(self,*args,**kwargs):\n",
    "        return self.series.plot(*args,**kwargs)      "
   ]
  },
  {
   "cell_type": "markdown",
   "metadata": {},
   "source": [
    "# Example"
   ]
  },
  {
   "cell_type": "code",
   "execution_count": 70,
   "metadata": {
    "collapsed": false
   },
   "outputs": [],
   "source": [
    "df = pd.DataFrame({\"gpsv\":[0,1,10,20,30,40,50],\"emissions\":[10,10,10,15,20,20,30]}).astype(float)"
   ]
  },
  {
   "cell_type": "code",
   "execution_count": 71,
   "metadata": {
    "collapsed": false
   },
   "outputs": [],
   "source": [
    "mdf = MyDataFrame(df,units)"
   ]
  },
  {
   "cell_type": "code",
   "execution_count": 72,
   "metadata": {
    "collapsed": false
   },
   "outputs": [
    {
     "data": {
      "text/plain": [
       "emissions           : milligram / second\n",
       "emissions gpkm      : gram / kilometer\n",
       "gpsv                : kilometer / hour\n",
       "\n",
       "   emissions  gpsv\n",
       "0       10.0   0.0\n",
       "1       10.0   1.0\n",
       "2       10.0  10.0\n",
       "3       15.0  20.0\n",
       "4       20.0  30.0"
      ]
     },
     "execution_count": 72,
     "metadata": {},
     "output_type": "execute_result"
    }
   ],
   "source": [
    "mdf"
   ]
  },
  {
   "cell_type": "code",
   "execution_count": 73,
   "metadata": {
    "collapsed": false
   },
   "outputs": [
    {
     "name": "stdout",
     "output_type": "stream",
     "text": [
      "Variable            Unit          mean         std\n",
      "--------------------------------------------------\n",
      "emissions           mg / s       16.43        7.48\n",
      "gpsv                km / hr       21.57       19.34\n"
     ]
    }
   ],
   "source": [
    "mdf.describe()"
   ]
  },
  {
   "cell_type": "code",
   "execution_count": 74,
   "metadata": {
    "collapsed": false
   },
   "outputs": [
    {
     "name": "stdout",
     "output_type": "stream",
     "text": [
      "Unit:  1 gram / kilometer\n"
     ]
    },
    {
     "data": {
      "text/plain": [
       "0          inf\n",
       "1    36.000000\n",
       "2     3.600000\n",
       "3     2.700000\n",
       "4     2.400000\n",
       "Name: emissions gpkm, dtype: float64"
      ]
     },
     "execution_count": 74,
     "metadata": {},
     "output_type": "execute_result"
    }
   ],
   "source": [
    "mdf[\"emissions gpkm\"] = (mdf[\"emissions\"]/mdf[\"gpsv\"]).to(\"gram per kilometer\")\n",
    "mdf[\"emissions gpkm\"]"
   ]
  },
  {
   "cell_type": "code",
   "execution_count": 75,
   "metadata": {
    "collapsed": false
   },
   "outputs": [
    {
     "data": {
      "text/plain": [
       "emissions           : milligram / second\n",
       "emissions gpkm      : gram / kilometer\n",
       "gpsv                : kilometer / hour\n",
       "\n",
       "   emissions  gpsv  emissions gpkm\n",
       "0       10.0   0.0             inf\n",
       "1       10.0   1.0       36.000000\n",
       "2       10.0  10.0        3.600000\n",
       "3       15.0  20.0        2.700000\n",
       "4       20.0  30.0        2.400000"
      ]
     },
     "execution_count": 75,
     "metadata": {},
     "output_type": "execute_result"
    }
   ],
   "source": [
    "mdf"
   ]
  },
  {
   "cell_type": "code",
   "execution_count": 76,
   "metadata": {
    "collapsed": false
   },
   "outputs": [
    {
     "name": "stdout",
     "output_type": "stream",
     "text": [
      "Variable            Unit          mean         std         min         max\n",
      "--------------------------------------------------------------------------\n",
      "emissions           mg / s       16.43        7.48       10.00       30.00\n",
      "gpsv                km / hr       21.57       19.34        0.00       50.00\n",
      "emissions gpkm      g / km         inf         nan        1.80         inf\n"
     ]
    }
   ],
   "source": [
    "mdf.describe(stats=[\"mean\",\"std\",\"min\",\"max\"])"
   ]
  },
  {
   "cell_type": "markdown",
   "metadata": {},
   "source": [
    "# Plans: \n",
    "\n",
    "Build out prototype functionality: error handling, plotting to explore the concept.\n",
    "\n",
    "Demonstrate the concept via refactor of existing (core) code."
   ]
  },
  {
   "cell_type": "code",
   "execution_count": null,
   "metadata": {
    "collapsed": true
   },
   "outputs": [],
   "source": []
  }
 ],
 "metadata": {
  "anaconda-cloud": {},
  "kernelspec": {
   "display_name": "Python [conda root]",
   "language": "python",
   "name": "conda-root-py"
  },
  "language_info": {
   "codemirror_mode": {
    "name": "ipython",
    "version": 3
   },
   "file_extension": ".py",
   "mimetype": "text/x-python",
   "name": "python",
   "nbconvert_exporter": "python",
   "pygments_lexer": "ipython3",
   "version": "3.5.2"
  }
 },
 "nbformat": 4,
 "nbformat_minor": 1
}
